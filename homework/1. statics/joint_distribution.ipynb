{
 "cells": [
  {
   "cell_type": "markdown",
   "metadata": {
    "colab_type": "text",
    "deletable": true,
    "editable": true,
    "id": "m42fIBXzef8N"
   },
   "source": [
    "# Exersize \n",
    "* 모든 Exersize의 코드에는 주석을 이용해 설명을 작성, 주석을 이용한 설명이 없을 시 감점이 있을 예정\n",
    "* $X$를 주사위 1을 던져서 나오는 수에 대한 random variable 이라고 가정함\n",
    "* $Y$를 주사위 2을 던져서 나오는 수에 대한 random variable 이라고 가정함\n",
    "* $X, Y$는 확률적으로 서로 독립사건이라고 가정\n",
    "* $Z$를 두 주사위의 합, 즉 $Z=X+Y$ random variable 로 가정\n",
    "* 두 주사위의 확률 분포는 아래 dictionary로 저장됨 `Xstats` 와 `Ystats`\n",
    "  * 예를 들어서 '1':1/15 는 '1' 이 나올 확률은 1/15 임"
   ]
  },
  {
   "cell_type": "code",
   "execution_count": 1,
   "metadata": {
    "colab": {},
    "colab_type": "code",
    "deletable": true,
    "editable": true,
    "id": "LRdiN38nef8N"
   },
   "outputs": [],
   "source": [
    "Xstats = {'1':1/15, '2':1/15, '3':1/15, '4':1/15, '5':1/15, '6':2/3}\n",
    "Ystats = {'1':1/15, '2':1/15, '3':1/15, '4':1/15, '5':1/15, '6':2/3}"
   ]
  },
  {
   "cell_type": "markdown",
   "metadata": {
    "colab_type": "text",
    "deletable": true,
    "editable": true,
    "id": "z56vR5Kqef8P"
   },
   "source": [
    "### Exersize 1 [5 points]\n",
    "\n",
    "`Zstats` 라는 dictionary에 $Z$ random variable의 분포를 구하세요\n",
    "\n",
    "* Hint:\n",
    "* 본 문제에서는 $X, Y, Z$의 관계상 joint distribution이 다음과 같은 관계 성립함\n",
    "\\begin{align}\n",
    "P(x,y,z) = p(x)p(y)p(z|x,y)\n",
    "\\end{align}\n",
    "\\begin{align}\n",
    "P(z|x,y) = \\begin{cases}\n",
    "1 & \\text{if } z=x+y\\\\\n",
    "0 & \\text{otherwise}\n",
    "\\end{cases}\n",
    "\\end{align}\n",
    "\n",
    "\\begin{align}\n",
    "P(x,y|z)=\\frac{p(x,y,z)}{p(z)}\n",
    "\\end{align}\n",
    "\n",
    "`Output`\n",
    "\n",
    "Zstats = {'2': 0.0044444444444444444, '3': 0.008888888888888889, '4': 0.013333333333333332, '5': 0.017777777777777778, '6': 0.022222222222222223, '7': 0.10666666666666666, '8': 0.10222222222222221, '9': 0.09777777777777777, '10': 0.09333333333333332, '11': 0.08888888888888888, '12': 0.4444444444444444}"
   ]
  },
  {
   "cell_type": "code",
   "execution_count": 17,
   "metadata": {
    "colab": {
     "base_uri": "https://localhost:8080/",
     "height": 232
    },
    "colab_type": "code",
    "collapsed": false,
    "deletable": true,
    "editable": true,
    "executionInfo": {
     "elapsed": 2082,
     "status": "error",
     "timestamp": 1585719003348,
     "user": {
      "displayName": "Sung Hoon Lim",
      "photoUrl": "https://lh3.googleusercontent.com/a-/AOh14Gj0PbL6oKO46SgeP_ILSlSsIleKtEdjVkT1Hv080W0=s64",
      "userId": "11994082970032634657"
     },
     "user_tz": -540
    },
    "id": "rlvxLlCAef8P",
    "jupyter": {
     "outputs_hidden": false
    },
    "outputId": "f72ba029-bf50-4a62-ad54-e1cbfdac780f"
   },
   "outputs": [
    {
     "name": "stdout",
     "output_type": "stream",
     "text": [
      "dict_keys(['2', '3', '4', '5', '6', '7', '8', '9', '10', '11', '12'])\n",
      "Zstats = {'2': 0.0044444444444444444, '3': 0.008888888888888889, '4': 0.013333333333333332, '5': 0.017777777777777778, '6': 0.022222222222222223, '7': 0.10666666666666666, '8': 0.10222222222222221, '9': 0.09777777777777777, '10': 0.09333333333333332, '11': 0.08888888888888888, '12': 0.4444444444444444}\n"
     ]
    }
   ],
   "source": [
    "# Solution\n",
    "Zstats = []\n",
    "for x in Xstats.keys():\n",
    "    for y in Ystats.keys():\n",
    "        Zstats.append(int(x) + int(y))# Zstats 즉 x+y의 결과들을 모두 저장해 리스트에 넣어줌\n",
    "Zstats = {str(z_value) : 0 for z_value in Zstats} # x+y 의 결과를 Dictionary형태로 초기화 함\n",
    "\n",
    "for z_value in Zstats.keys(): # 저장된 Zstats의 key값을 하나씩 불러옴\n",
    "    z = int(z_value)\n",
    "    pz_bar_xy = 0\n",
    "    pxy_bar_z = 0\n",
    "    for x in Xstats.keys(): \n",
    "        for y in Xstats.keys():# X, Y의 값을 하나씩 순차적으로 불러옴\n",
    "            if int(x) + int(y) == int(z): # 만약 Z의 값과 X+Y가 같다면 if 문 통과 X+Y != Z일 확률은 0이기 때문\n",
    "                pxy_bar_z += Xstats[str(x)] * Xstats[str(y)] # 조건을 통과한 경우의 확률을 모두 더함\n",
    "    Zstats[z_value] = pxy_bar_z # Zstats에 각 값을 할당해줌\n",
    "    \n",
    "# Do not change\n",
    "print('Zstats =', Zstats)"
   ]
  },
  {
   "cell_type": "markdown",
   "metadata": {
    "colab_type": "text",
    "deletable": true,
    "editable": true,
    "id": "AcC3frplef8Q"
   },
   "source": [
    "### Exersize 2 [5 points]\n",
    "\n",
    "* $P(x, y| Z=4)$를 matrix 형태로 `Pxy_Zeq4`에 저장하세요 (2D np.array)\n",
    "\\begin{align*}\n",
    "P(x, y| Z=4) = \\left[\n",
    "\\begin{array}[ccc]\n",
    "P(X=1, Y=1| Z=4) & \\cdots & P(X=1, Y=6| Z=4)\\\\\n",
    "\\vdots & \\ddots & \\cdots \\\\\n",
    "P(X=6, Y=1| Z=4) & \\cdots & P(X=6, Y=6| Z=4)\n",
    "\\end{array}\n",
    "\\right]\n",
    "\\end{align*}\n",
    "* Hint:\n",
    "* 본 문제에서는 $X, Y, Z$의 관계상 joint distribution이 다음과 같은 관계 성립함\n",
    "\\begin{align}\n",
    "P(x,y,z) = p(x)p(y)p(z|x,y)\n",
    "\\end{align}\n",
    "\\begin{align}\n",
    "P(z|x,y) = \\begin{cases}\n",
    "1 & \\text{if } z=x+y\\\\\n",
    "0 & \\text{otherwise}\n",
    "\\end{cases}\n",
    "\\end{align}\n",
    "\n",
    "\\begin{align}\n",
    "P(x,y|z)=\\frac{p(x,y,z)}{p(z)}\n",
    "\\end{align}"
   ]
  },
  {
   "cell_type": "code",
   "execution_count": 22,
   "metadata": {
    "colab": {},
    "colab_type": "code",
    "collapsed": false,
    "deletable": true,
    "editable": true,
    "id": "ISGUAOe9ef8Q",
    "jupyter": {
     "outputs_hidden": false
    },
    "outputId": "b75f093c-2b36-41eb-b7ac-3888c978001d"
   },
   "outputs": [
    {
     "name": "stdout",
     "output_type": "stream",
     "text": [
      "Pxy_zeq4 = [[0.         0.         0.00444444 0.         0.         0.        ]\n",
      " [0.         0.00444444 0.         0.         0.         0.        ]\n",
      " [0.00444444 0.         0.         0.         0.         0.        ]\n",
      " [0.         0.         0.         0.         0.         0.        ]\n",
      " [0.         0.         0.         0.         0.         0.        ]\n",
      " [0.         0.         0.         0.         0.         0.        ]]\n"
     ]
    }
   ],
   "source": [
    "# Solution\n",
    "import numpy as np\n",
    "\n",
    "Pxy_zeq4 = np.zeros(shape = (6,6), dtype = np.float32)# Pxy_zeq4를 선언\n",
    "for x in Xstats.keys():\n",
    "    for y in Ystats.keys():\n",
    "        Pxy_zeq4[int(x)-1, int(y)-1] = Xstats[x] * Ystats[y] if int(x) + int(y) == 4 else 0 # x+y == 4인 경우 그 확률을 대입하고 x+y != 4인 경우 0을 대입한다. \n",
    "# Do not touch\n",
    "print('Pxy_zeq4 =', Pxy_zeq4)"
   ]
  },
  {
   "cell_type": "markdown",
   "metadata": {
    "colab_type": "text",
    "deletable": true,
    "editable": true,
    "id": "-qr6Jpceef8R"
   },
   "source": [
    "### Exersize 3 [2 points]\n",
    "\n",
    "* Conditional distribution $P(x|Z=4)$ 를 구하고 `Xstats_Zeq4` 에 저장 하세요\n",
    "* 위에서 구한 `Pxy_zeq4`에 `np.sum`을 활용하여 구하세요\n",
    "* Hint\n",
    "    * 유용한 관계식 ( 본 문제 이외에도 사실인 관계, 이론수업에서 배운 내용임)\n",
    "\\begin{align}\n",
    "P(x|z) = \\sum_{y\\in \\mathcal{Y}} P(x,y|z)\n",
    "\\end{align}\n",
    "\n",
    "`Output`\n",
    "\n",
    "Xstats_Zeq4 = {'1': 0.33333333333333337, '2': 0.33333333333333337, '3': 0.33333333333333337, '4': 0.0, '5': 0.0, '6': 0.0}"
   ]
  },
  {
   "cell_type": "code",
   "execution_count": 28,
   "metadata": {
    "colab": {},
    "colab_type": "code",
    "collapsed": false,
    "deletable": true,
    "editable": true,
    "id": "HLMaK33aef8R",
    "jupyter": {
     "outputs_hidden": false
    },
    "outputId": "1b93fa97-f78e-4fe7-dfd1-01247cd7863c"
   },
   "outputs": [
    {
     "name": "stdout",
     "output_type": "stream",
     "text": [
      "Xstats_Zeq4 = {'1': 0.33333334, '2': 0.33333334, '3': 0.33333334, '4': 0.0, '5': 0.0, '6': 0.0}\n"
     ]
    }
   ],
   "source": [
    "# Solution\n",
    "Xstats_Zeq4 = {x : 0 for x in Xstats.keys()} # 딕셔너리 초기화\n",
    "Zeq4 = np.sum(Pxy_zeq4)# z가 4인 모든경우의 확률 즉 Pxy_zeq4의 내부 모든 값을 더함\n",
    "for x in Xstats_Zeq4.keys():\n",
    "    Xstats_Zeq4[x] = np.sum(Pxy_zeq4[int(x)-1 ,:])/Zeq4 # Pxy_zeq4의 x행의 모든 값을 더하고 Z가 4인 모든 확률에 대해 나눔\n",
    "# Do not touch\n",
    "print('Xstats_Zeq4 =', Xstats_Zeq4)"
   ]
  },
  {
   "cell_type": "markdown",
   "metadata": {
    "colab_type": "text",
    "deletable": true,
    "editable": true,
    "id": "gjosFBY2ef8S"
   },
   "source": [
    "### Exersize 4 [2 points]\n",
    "\n",
    "* $P(x|Y=1, Z=4)$ 를 구하고, `Xstats_Yeq1Zeq4`에 dictionary로 저장하세요\n",
    "* 위에서 구한 `Pxy_zeq4`에 `np.sum`을 활용하여 구하세요\n",
    "* hint: \n",
    "     * 이제 아래 수식은 스스로 찾을 수 있어야 합니다\n",
    "\\begin{align}\n",
    "P(x|Y=1, Z=4) = \\frac{P(x, Y=1| Z=4)}{P(Y=1| Z=4)}\n",
    "\\end{align}\n",
    "     * 먼저 P(Y=1,Z=4)를  `Pxy_zeq4`를 활용하여 구하세요\n"
   ]
  },
  {
   "cell_type": "code",
   "execution_count": 32,
   "metadata": {
    "colab": {},
    "colab_type": "code",
    "collapsed": false,
    "deletable": true,
    "editable": true,
    "id": "E7acVAdGef8S",
    "jupyter": {
     "outputs_hidden": false
    },
    "outputId": "bce976a7-8a60-43c8-e59c-dec3a9d042f9"
   },
   "outputs": [
    {
     "name": "stdout",
     "output_type": "stream",
     "text": [
      "Xstats_Yeq1Zeq4 = {'1': 0.0, '2': 0.0, '3': 1.0, '4': 0.0, '5': 0.0, '6': 0.0}\n"
     ]
    }
   ],
   "source": [
    "# Solution\n",
    "Xstats_Yeq1Zeq4 = {x : 0 for x in Xstats.keys()}\n",
    "PYeq1Zeq4 = np.sum(Pxy_zeq4[:, 0])\n",
    "\n",
    "for x in Xstats_Yeq1Zeq4.keys():\n",
    "    Xstats_Yeq1Zeq4[x] = float(Pxy_zeq4[int(x)-1, : 1]) / PYeq1Zeq4\n",
    "# Do not change\n",
    "print('Xstats_Yeq1Zeq4 =', Xstats_Yeq1Zeq4)\n"
   ]
  },
  {
   "cell_type": "markdown",
   "metadata": {
    "colab_type": "text",
    "deletable": true,
    "editable": true,
    "id": "THDSHGNxef8U"
   },
   "source": [
    "### Exersize 5 [5 points]\n",
    "\n",
    "* 문제에서 주어진 것 처럼 $X, Y$는 독립입니다. 즉 $P(X, Y) = P(X)P(Y)$\n",
    "* 그렇다면, $X, Y$는 $Z=4$ 라는 사건이 주어졌을 때에도 서로 독립인가? (Yes, No)로 답하고 아래 짧게 (1문장이내) 이유를 설명하세요. 위 문제를 풀지 못했더라도, 문제에서 주어진 `output` 결과로 설명 가능함"
   ]
  },
  {
   "cell_type": "markdown",
   "metadata": {
    "colab_type": "text",
    "deletable": true,
    "editable": true,
    "id": "JAX7x6MAef8V"
   },
   "source": [
    "답: Yes or No, "
   ]
  },
  {
   "cell_type": "markdown",
   "metadata": {},
   "source": [
    "답 : No  \n",
    "Y의 값에따라 X의 값이 종속적으로 결정된다. 예를들어, Z = 4인 조건을 만족하기 위해 Y : 1인 경우 X는 무조건 3 이어야 한다."
   ]
  }
 ],
 "metadata": {
  "colab": {
   "collapsed_sections": [
    "ezPqgSIEL8Ar",
    "houxGoybL8BA",
    "N-WJrPliL8BD",
    "ZYDdNNZdL8BE",
    "qCh62n1IL8BI",
    "YT3Xi4DGL8BL",
    "zBXLuJPRL8BM",
    "QQnR_VZzL8BS",
    "e5MFuGKUL8BU",
    "AwAqWhF5L8BX",
    "yrZbLuZsL8BY",
    "sKwZnuWBL8Bb",
    "wfAJ_hbIL8Bh",
    "37xJ74pmL8Bi",
    "kYooyBEmL8Bk",
    "RTgsU_zLL8Bn",
    "XVJpXOyEL8Bn",
    "eJhfSHfXL8Bq",
    "84pYd1L1L8Bt",
    "jSDxh84VL8Bu",
    "AQPBauqpL8B3",
    "8IaJ4EGpL8CN",
    "avNKKmClL8CO",
    "x0zaNjzvL8CT",
    "wfISg32ML8CZ",
    "WiiV-75YL8CZ",
    "p5Bnge3mL8Ce",
    "5nt77_riL8Cj",
    "_5sbzBDxL8Cj",
    "JWsvcj9dL8Cl",
    "Ab4PxOtIL8Co",
    "SakNs_PAL8Cr",
    "F69UiquvL8Ct",
    "YP6-K9yLL8Cv",
    "GRsr7xupL8C2",
    "OFZAV42iL8C2",
    "dgKR8WXhL8C_",
    "B84LOMdLL8DD",
    "WtDywtafL8DM",
    "smsB9goJL8DM",
    "kSVKNnRDL8DR",
    "dlqTSTIhL8DU",
    "L3peAnWoL8DU",
    "BliENWetL8DX",
    "CWU79YAVL8Dc",
    "-qr6Jpceef8R",
    "THDSHGNxef8U"
   ],
   "name": "HW02_Python&NumPy_NumPy_Exercise.ipynb",
   "provenance": []
  },
  "kernelspec": {
   "display_name": "Python 3",
   "language": "python",
   "name": "python3"
  },
  "language_info": {
   "codemirror_mode": {
    "name": "ipython",
    "version": 3
   },
   "file_extension": ".py",
   "mimetype": "text/x-python",
   "name": "python",
   "nbconvert_exporter": "python",
   "pygments_lexer": "ipython3",
   "version": "3.6.8"
  }
 },
 "nbformat": 4,
 "nbformat_minor": 4
}
